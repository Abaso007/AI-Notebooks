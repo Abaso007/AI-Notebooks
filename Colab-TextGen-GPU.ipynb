{
  "nbformat": 4,
  "nbformat_minor": 0,
  "metadata": {
    "colab": {
      "private_outputs": true,
      "provenance": []
    },
    "kernelspec": {
      "name": "python3",
      "display_name": "Python 3"
    },
    "language_info": {
      "name": "python"
    },
    "accelerator": "GPU",
    "gpuClass": "standard"
  },
  "cells": [
    {
      "cell_type": "markdown",
      "source": [
        "# Alternative PygmalionAI notebook for Google Colab\n",
        "\n",
        "This notebook is an *unofficial* method to run the [PygmalionAI LLMs](https://huggingface.co/PygmalionAI) (NSFW) using **oobabooga**'s [text-generation-webui](https://github.com/oobabooga/text-generation-webui) project in chat mode.\n",
        "\n",
        "Run all the cells and a public gradio URL will appear at the bottom in around 12 minutes.\n",
        "\n",
        "* Optionally, you can activate automatic translation using Google Translate to talk to the bot in your own language.\n",
        "* To create your own custom characters, you can use the [Pygmalion JSON character creator](https://oobabooga.github.io/character-creator.html)\n",
        "\n",
        "Original author: https://github.com/81300"
      ],
      "metadata": {
        "id": "MFQl6-FjSYtY"
      }
    },
    {
      "cell_type": "code",
      "source": [
        "#@title 1. Keep this tab alive to prevent Colab from disconnecting you { display-mode: \"form\" }\n",
        "\n",
        "# From: https://github.com/henk717/KoboldAI\n",
        "\n",
        "%%html\n",
        "<b>Press play on the music player to keep the tab alive (Uses only 13MB of data)</b><br/>\n",
        "<audio src=\"https://henk.tech/colabkobold/silence.m4a\" controls>"
      ],
      "metadata": {
        "id": "f7TVVj_z4flw"
      },
      "execution_count": null,
      "outputs": []
    },
    {
      "cell_type": "code",
      "source": [
        "#@title 2. Install the requirements\n",
        "\n",
        "%cd /tmp\n",
        "!wget -c https://repo.anaconda.com/miniconda/Miniconda3-latest-Linux-x86_64.sh\n",
        "%env PYTHONPATH=\n",
        "!which conda 2>/dev/null || bash Miniconda3-latest-Linux-x86_64.sh -b -p /usr/local -f\n",
        "%env CI=true\n",
        "!conda init -q bash\n",
        "!source /usr/local/bin/activate && conda update -y -q -c defaults --all\n",
        "!source /usr/local/bin/activate && conda create -y -q -n textgen\n",
        "!source /usr/local/bin/activate && conda activate textgen && conda install -y -q -c defaults conda python\n",
        "!source /usr/local/bin/activate && conda activate textgen && conda install -y -q -c pytorch -c nvidia pytorch torchvision torchaudio pytorch-cuda=11.7\n",
        "!source /usr/local/bin/activate && conda clean -y -q --all\n",
        "\n",
        "# Download Github repo\n",
        "%cd /content\n",
        "!git clone https://github.com/oobabooga/text-generation-webui\n",
        "!ln -s text-generation-webui/models .\n",
        "!ln -s text-generation-webui/characters .\n",
        "!ln -s text-generation-webui/presets .\n",
        "%rm -r sample_data\n",
        "%cd text-generation-webui\n",
        "!wget https://oobabooga.github.io/settings-colab.json -O settings-colab-template.json\n",
        "\n",
        "# Install requirements\n",
        "!source /usr/local/bin/activate && conda activate textgen && pip install --no-cache-dir --progress-bar=off --root-user-action=ignore -r requirements.txt diffusers\n",
        "!source /usr/local/bin/activate && conda activate textgen && pip install --no-cache-dir --progress-bar=off --root-user-action=ignore -r extensions/google_translate/requirements.txt"
      ],
      "metadata": {
        "id": "LGQ8BiMuXMDG",
        "cellView": "form"
      },
      "execution_count": null,
      "outputs": []
    },
    {
      "cell_type": "code",
      "source": [
        "#@title 3. Start the web UI\n",
        "\n",
        "import json\n",
        "\n",
        "model = \"Pygmalion 6B-original (yields better results)\" #@param [\"Pygmalion 6B-original (yields better results)\", \"Pygmalion 6B\", \"Pygmalion 6B experimental\", \"Pygmalion 2.7B\", \"Pygmalion 1.3B\", \"Pygmalion 350M\"] {allow-input: false}\n",
        "\n",
        "models = {\n",
        "    \"Pygmalion 6B-original (yields better results)\": (\"PygmalionAI\", \"pygmalion-6b\", \"b8344bb4eb76a437797ad3b19420a13922aaabe1\", \"pygmalion-6b_b8344bb4eb76a437797ad3b19420a13922aaabe1\"),\n",
        "    \"Pygmalion 6B\": (\"PygmalionAI\", \"pygmalion-6b\", \"main\", \"pygmalion-6b\"),\n",
        "    \"Pygmalion 6B experimental\": (\"PygmalionAI\", \"pygmalion-6b\", \"dev\", \"pygmalion-6b_dev\"),\n",
        "    \"Pygmalion 2.7B\": (\"PygmalionAI\", \"pygmalion-2.7b\", \"main\", \"pygmalion-2.7b\"),\n",
        "    \"Pygmalion 1.3B\": (\"PygmalionAI\", \"pygmalion-1.3b\", \"main\", \"pygmalion-1.3b\"),\n",
        "    \"Pygmalion 350M\": (\"PygmalionAI\", \"pygmalion-350m\", \"main\", \"pygmalion-350m\")\n",
        "}\n",
        "huggingface_org, huggingface_repo, huggingface_branch, model_name = models[model]\n",
        "\n",
        "# Download the model\n",
        "![[ ! -f models/$model_name/config.json ]] && source /usr/local/bin/activate && conda activate textgen \\\n",
        "  && python download-model.py $huggingface_org/$huggingface_repo --branch $huggingface_branch\n",
        "language_codes = {'Afrikaans': 'af', 'Albanian': 'sq', 'Amharic': 'am', 'Arabic': 'ar', 'Armenian': 'hy', 'Azerbaijani': 'az', 'Basque': 'eu', 'Belarusian': 'be', 'Bengali': 'bn', 'Bosnian': 'bs', 'Bulgarian': 'bg', 'Catalan': 'ca', 'Cebuano': 'ceb', 'Chinese (Simplified)': 'zh-CN', 'Chinese (Traditional)': 'zh-TW', 'Corsican': 'co', 'Croatian': 'hr', 'Czech': 'cs', 'Danish': 'da', 'Dutch': 'nl', 'English': 'en', 'Esperanto': 'eo', 'Estonian': 'et', 'Finnish': 'fi', 'French': 'fr', 'Frisian': 'fy', 'Galician': 'gl', 'Georgian': 'ka', 'German': 'de', 'Greek': 'el', 'Gujarati': 'gu', 'Haitian Creole': 'ht', 'Hausa': 'ha', 'Hawaiian': 'haw', 'Hebrew': 'iw', 'Hindi': 'hi', 'Hmong': 'hmn', 'Hungarian': 'hu', 'Icelandic': 'is', 'Igbo': 'ig', 'Indonesian': 'id', 'Irish': 'ga', 'Italian': 'it', 'Japanese': 'ja', 'Javanese': 'jw', 'Kannada': 'kn', 'Kazakh': 'kk', 'Khmer': 'km', 'Korean': 'ko', 'Kurdish': 'ku', 'Kyrgyz': 'ky', 'Lao': 'lo', 'Latin': 'la', 'Latvian': 'lv', 'Lithuanian': 'lt', 'Luxembourgish': 'lb', 'Macedonian': 'mk', 'Malagasy': 'mg', 'Malay': 'ms', 'Malayalam': 'ml', 'Maltese': 'mt', 'Maori': 'mi', 'Marathi': 'mr', 'Mongolian': 'mn', 'Myanmar (Burmese)': 'my', 'Nepali': 'ne', 'Norwegian': 'no', 'Nyanja (Chichewa)': 'ny', 'Pashto': 'ps', 'Persian': 'fa', 'Polish': 'pl', 'Portuguese (Portugal, Brazil)': 'pt', 'Punjabi': 'pa', 'Romanian': 'ro', 'Russian': 'ru', 'Samoan': 'sm', 'Scots Gaelic': 'gd', 'Serbian': 'sr', 'Sesotho': 'st', 'Shona': 'sn', 'Sindhi': 'sd', 'Sinhala (Sinhalese)': 'si', 'Slovak': 'sk', 'Slovenian': 'sl', 'Somali': 'so', 'Spanish': 'es', 'Sundanese': 'su', 'Swahili': 'sw', 'Swedish': 'sv', 'Tagalog (Filipino)': 'tl', 'Tajik': 'tg', 'Tamil': 'ta', 'Telugu': 'te', 'Thai': 'th', 'Turkish': 'tr', 'Ukrainian': 'uk', 'Urdu': 'ur', 'Uzbek': 'uz', 'Vietnamese': 'vi', 'Welsh': 'cy', 'Xhosa': 'xh', 'Yiddish': 'yi', 'Yoruba': 'yo', 'Zulu': 'zu'}\n",
        "activate_google_translate = False #@param {type:\"boolean\"}\n",
        "your_language = \"French\" # @param ['Afrikaans', 'Albanian', 'Amharic', 'Arabic', 'Armenian', 'Azerbaijani', 'Basque', 'Belarusian', 'Bengali', 'Bosnian', 'Bulgarian', 'Catalan', 'Cebuano', 'Chinese (Simplified)', 'Chinese (Traditional)', 'Corsican', 'Croatian', 'Czech', 'Danish', 'Dutch', 'English', 'Esperanto', 'Estonian', 'Finnish', 'French', 'Frisian', 'Galician', 'Georgian', 'German', 'Greek', 'Gujarati', 'Haitian Creole', 'Hausa', 'Hawaiian', 'Hebrew', 'Hindi', 'Hmong', 'Hungarian', 'Icelandic', 'Igbo', 'Indonesian', 'Irish', 'Italian', 'Japanese', 'Javanese', 'Kannada', 'Kazakh', 'Khmer', 'Korean', 'Kurdish', 'Kyrgyz', 'Lao', 'Latin', 'Latvian', 'Lithuanian', 'Luxembourgish', 'Macedonian', 'Malagasy', 'Malay', 'Malayalam', 'Maltese', 'Maori', 'Marathi', 'Mongolian', 'Myanmar (Burmese)', 'Nepali', 'Norwegian', 'Nyanja (Chichewa)', 'Pashto', 'Persian', 'Polish', 'Portuguese (Portugal, Brazil)', 'Punjabi', 'Romanian', 'Russian', 'Samoan', 'Scots Gaelic', 'Serbian', 'Sesotho', 'Shona', 'Sindhi', 'Sinhala (Sinhalese)', 'Slovak', 'Slovenian', 'Somali', 'Spanish', 'Sundanese', 'Swahili', 'Swedish', 'Tagalog (Filipino)', 'Tajik', 'Tamil', 'Telugu', 'Thai', 'Turkish', 'Ukrainian', 'Urdu', 'Uzbek', 'Vietnamese', 'Welsh', 'Xhosa', 'Yiddish', 'Yoruba', 'Zulu']\n",
        "\n",
        "# Applying the selected language\n",
        "j = json.loads(open('settings-colab-template.json', 'r').read())\n",
        "j[\"google_translate-language string\"] = language_codes[your_language]\n",
        "with open('settings-colab.json', 'w') as f:\n",
        "  f.write(json.dumps(j, indent=4))\n",
        "\n",
        "if activate_google_translate:\n",
        "  !source /usr/local/bin/activate && conda activate textgen && python server.py --share --cai-chat --auto-devices --model $model_name --settings settings-colab.json --extensions google_translate --no-stream\n",
        "else:\n",
        "  !source /usr/local/bin/activate && conda activate textgen && python server.py --share --cai-chat --auto-devices --model $model_name --settings settings-colab.json\n"
      ],
      "metadata": {
        "id": "hKuocueuXnm5",
        "cellView": "form"
      },
      "execution_count": null,
      "outputs": []
    }
  ]
}
